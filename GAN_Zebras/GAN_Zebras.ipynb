{
 "cells": [
  {
   "cell_type": "markdown",
   "metadata": {
    "colab_type": "text",
    "id": "1czVdIlqnImH"
   },
   "source": [
    "# General Adversarial Network"
   ]
  },
  {
   "cell_type": "markdown",
   "metadata": {
    "colab_type": "text",
    "id": "1KD3ZgLs80vY"
   },
   "source": [
    "### Goals\n",
    "I will be training a model that can convert horses into zebras, and vice versa.\n",
    "\n"
   ]
  },
  {
   "cell_type": "markdown",
   "metadata": {
    "colab_type": "text",
    "id": "wU8DDM6l9rZb"
   },
   "source": [
    "## Initialization\n",
    "Importing libraries, defining a visualization function, and getting the pre-trained CycleGAN checkpoint."
   ]
  },
  {
   "cell_type": "code",
   "execution_count": 29,
   "metadata": {
    "colab": {},
    "colab_type": "code",
    "id": "JfkorNJrnmNO"
   },
   "outputs": [],
   "source": [
    "import torch\n",
    "from torch import nn\n",
    "from tqdm.auto import tqdm\n",
    "from torchvision import transforms\n",
    "from torchvision.utils import make_grid\n",
    "from torch.utils.data import DataLoader\n",
    "import matplotlib.pyplot as plt\n",
    "torch.manual_seed(0)\n",
    "\n",
    "def show_tensor_images(image_tensor, num_images=25, size=(1, 28, 28)):\n",
    "    image_tensor = (image_tensor + 1) / 2\n",
    "    image_shifted = image_tensor\n",
    "    image_unflat = image_shifted.detach().cpu().view(-1, *size)\n",
    "    image_grid = make_grid(image_unflat[:num_images], nrow=5)\n",
    "    plt.imshow(image_grid.permute(1, 2, 0).squeeze())\n",
    "    plt.show()\n",
    "\n",
    "\n",
    "import glob\n",
    "import random\n",
    "import os\n",
    "from torch.utils.data import Dataset\n",
    "from PIL import Image\n",
    "\n",
    "class ImageDataset(Dataset):\n",
    "    def __init__(self, root, transform=None, mode='train'):\n",
    "        self.transform = transform\n",
    "        self.files_A = sorted(glob.glob(os.path.join(root, '%sA' % mode) + '/*.*'))\n",
    "        self.files_B = sorted(glob.glob(os.path.join(root, '%sB' % mode) + '/*.*'))\n",
    "        if len(self.files_A) > len(self.files_B):\n",
    "            self.files_A, self.files_B = self.files_B, self.files_A\n",
    "        self.new_perm()\n",
    "        assert len(self.files_A) > 0, \"Make sure you downloaded the horse2zebra images!\"\n",
    "\n",
    "    def new_perm(self):\n",
    "        self.randperm = torch.randperm(len(self.files_B))[:len(self.files_A)]\n",
    "\n",
    "    def __getitem__(self, index):\n",
    "        item_A = self.transform(Image.open(self.files_A[index % len(self.files_A)]))\n",
    "        item_B = self.transform(Image.open(self.files_B[self.randperm[index]]))\n",
    "        if item_A.shape[0] != 3: \n",
    "            item_A = item_A.repeat(3, 1, 1)\n",
    "        if item_B.shape[0] != 3: \n",
    "            item_B = item_B.repeat(3, 1, 1)\n",
    "        if index == len(self) - 1:\n",
    "            self.new_perm()\n",
    "        return (item_A - 0.5) * 2, (item_B - 0.5) * 2\n",
    "\n",
    "    def __len__(self):\n",
    "        return min(len(self.files_A), len(self.files_B))"
   ]
  },
  {
   "cell_type": "markdown",
   "metadata": {
    "colab_type": "text",
    "id": "NjFyvNTG1CqY"
   },
   "source": [
    "## Generator\n",
    "The code for a CycleGAN generator is much like Pix2Pix's U-Net with the addition of the residual block between the encoding (contracting) and decoding (expanding) blocks."
   ]
  },
  {
   "cell_type": "code",
   "execution_count": 30,
   "metadata": {
    "colab": {},
    "colab_type": "code",
    "id": "P7XTRKqPSYpl"
   },
   "outputs": [],
   "source": [
    "class ResidualBlock(nn.Module):\n",
    "    def __init__(self, input_channels):\n",
    "        super(ResidualBlock, self).__init__()\n",
    "        self.conv1 = nn.Conv2d(input_channels, input_channels, kernel_size=3, padding=1, padding_mode='reflect')\n",
    "        self.conv2 = nn.Conv2d(input_channels, input_channels, kernel_size=3, padding=1, padding_mode='reflect')\n",
    "        self.instancenorm = nn.InstanceNorm2d(input_channels)\n",
    "        self.activation = nn.ReLU()\n",
    "\n",
    "    def forward(self, x):\n",
    "        original_x = x.clone()\n",
    "        x = self.conv1(x)\n",
    "        x = self.instancenorm(x)\n",
    "        x = self.activation(x)\n",
    "        x = self.conv2(x)\n",
    "        x = self.instancenorm(x)\n",
    "        return original_x + x"
   ]
  },
  {
   "cell_type": "markdown",
   "metadata": {
    "colab_type": "text",
    "id": "BJhq8a9USnfc"
   },
   "source": [
    "#### Pix2Pix\n",
    "\n",
    "The rest of the generator code will otherwise be much like the code you wrote for the last assignment: Pix2Pix's U-Net. "
   ]
  },
  {
   "cell_type": "code",
   "execution_count": 31,
   "metadata": {
    "colab": {},
    "colab_type": "code",
    "id": "xvY4ZNyUviY9"
   },
   "outputs": [],
   "source": [
    "class ContractingBlock(nn.Module):\n",
    "    def __init__(self, input_channels, use_bn=True, kernel_size=3, activation='relu'):\n",
    "        super(ContractingBlock, self).__init__()\n",
    "        self.conv1 = nn.Conv2d(input_channels, input_channels * 2, kernel_size=kernel_size, padding=1, stride=2, padding_mode='reflect')\n",
    "        self.activation = nn.ReLU() if activation == 'relu' else nn.LeakyReLU(0.2)\n",
    "        if use_bn:\n",
    "            self.instancenorm = nn.InstanceNorm2d(input_channels * 2)\n",
    "        self.use_bn = use_bn\n",
    "\n",
    "    def forward(self, x):\n",
    "        x = self.conv1(x)\n",
    "        if self.use_bn:\n",
    "            x = self.instancenorm(x)\n",
    "        x = self.activation(x)\n",
    "        return x\n",
    "\n",
    "class ExpandingBlock(nn.Module):\n",
    "    def __init__(self, input_channels, use_bn=True):\n",
    "        super(ExpandingBlock, self).__init__()\n",
    "        self.conv1 = nn.ConvTranspose2d(input_channels, input_channels // 2, kernel_size=3, stride=2, padding=1, output_padding=1)\n",
    "        if use_bn:\n",
    "            self.instancenorm = nn.InstanceNorm2d(input_channels // 2)\n",
    "        self.use_bn = use_bn\n",
    "        self.activation = nn.ReLU()\n",
    "\n",
    "    def forward(self, x):\n",
    "        x = self.conv1(x)\n",
    "        if self.use_bn:\n",
    "            x = self.instancenorm(x)\n",
    "        x = self.activation(x)\n",
    "        return x\n",
    "\n",
    "class FeatureMapBlock(nn.Module):\n",
    "    def __init__(self, input_channels, output_channels):\n",
    "        super(FeatureMapBlock, self).__init__()\n",
    "        self.conv = nn.Conv2d(input_channels, output_channels, kernel_size=7, padding=3, padding_mode='reflect')\n",
    "\n",
    "    def forward(self, x):\n",
    "        x = self.conv(x)\n",
    "        return x"
   ]
  },
  {
   "cell_type": "markdown",
   "metadata": {
    "colab_type": "text",
    "id": "9vhuBbmqDnE3"
   },
   "source": [
    "#### CycleGAN Generator\n",
    "Finally, we can put all the blocks together to create your CycleGAN generator."
   ]
  },
  {
   "cell_type": "code",
   "execution_count": 32,
   "metadata": {
    "colab": {},
    "colab_type": "code",
    "id": "EJzGSeMFD2CA"
   },
   "outputs": [],
   "source": [
    "class Generator(nn.Module):\n",
    "    def __init__(self, input_channels, output_channels, hidden_channels=64):\n",
    "        super(Generator, self).__init__()\n",
    "        self.upfeature = FeatureMapBlock(input_channels, hidden_channels)\n",
    "        self.contract1 = ContractingBlock(hidden_channels)\n",
    "        self.contract2 = ContractingBlock(hidden_channels * 2)\n",
    "        res_mult = 4\n",
    "        self.res0 = ResidualBlock(hidden_channels * res_mult)\n",
    "        self.res1 = ResidualBlock(hidden_channels * res_mult)\n",
    "        self.res2 = ResidualBlock(hidden_channels * res_mult)\n",
    "        self.res3 = ResidualBlock(hidden_channels * res_mult)\n",
    "        self.res4 = ResidualBlock(hidden_channels * res_mult)\n",
    "        self.res5 = ResidualBlock(hidden_channels * res_mult)\n",
    "        self.res6 = ResidualBlock(hidden_channels * res_mult)\n",
    "        self.res7 = ResidualBlock(hidden_channels * res_mult)\n",
    "        self.res8 = ResidualBlock(hidden_channels * res_mult)\n",
    "        self.expand2 = ExpandingBlock(hidden_channels * 4)\n",
    "        self.expand3 = ExpandingBlock(hidden_channels * 2)\n",
    "        self.downfeature = FeatureMapBlock(hidden_channels, output_channels)\n",
    "        self.tanh = torch.nn.Tanh()\n",
    "\n",
    "    def forward(self, x):\n",
    "        x0 = self.upfeature(x)\n",
    "        x1 = self.contract1(x0)\n",
    "        x2 = self.contract2(x1)\n",
    "        x3 = self.res0(x2)\n",
    "        x4 = self.res1(x3)\n",
    "        x5 = self.res2(x4)\n",
    "        x6 = self.res3(x5)\n",
    "        x7 = self.res4(x6)\n",
    "        x8 = self.res5(x7)\n",
    "        x9 = self.res6(x8)\n",
    "        x10 = self.res7(x9)\n",
    "        x11 = self.res8(x10)\n",
    "        x12 = self.expand2(x11)\n",
    "        x13 = self.expand3(x12)\n",
    "        xn = self.downfeature(x13)\n",
    "        return self.tanh(xn)"
   ]
  },
  {
   "cell_type": "markdown",
   "metadata": {
    "colab_type": "text",
    "id": "T6ndvjc_1KXx"
   },
   "source": [
    "## GAN Discriminator"
   ]
  },
  {
   "cell_type": "code",
   "execution_count": 33,
   "metadata": {
    "colab": {},
    "colab_type": "code",
    "id": "0nVuJPjV1f92"
   },
   "outputs": [],
   "source": [
    "class Discriminator(nn.Module):\n",
    "    def __init__(self, input_channels, hidden_channels=64):\n",
    "        super(Discriminator, self).__init__()\n",
    "        self.upfeature = FeatureMapBlock(input_channels, hidden_channels)\n",
    "        self.contract1 = ContractingBlock(hidden_channels, use_bn=False, kernel_size=4, activation='lrelu')\n",
    "        self.contract2 = ContractingBlock(hidden_channels * 2, kernel_size=4, activation='lrelu')\n",
    "        self.contract3 = ContractingBlock(hidden_channels * 4, kernel_size=4, activation='lrelu')\n",
    "        self.final = nn.Conv2d(hidden_channels * 8, 1, kernel_size=1)\n",
    "\n",
    "    def forward(self, x):\n",
    "        x0 = self.upfeature(x)\n",
    "        x1 = self.contract1(x0)\n",
    "        x2 = self.contract2(x1)\n",
    "        x3 = self.contract3(x2)\n",
    "        xn = self.final(x3)\n",
    "        return xn"
   ]
  },
  {
   "cell_type": "markdown",
   "metadata": {
    "colab_type": "text",
    "id": "qRk_8azSq3tF"
   },
   "source": [
    "## Training Preparation"
   ]
  },
  {
   "cell_type": "code",
   "execution_count": 34,
   "metadata": {
    "colab": {},
    "colab_type": "code",
    "id": "UXptQZcwrBrq"
   },
   "outputs": [],
   "source": [
    "import torch.nn.functional as F\n",
    "\n",
    "adv_criterion = nn.MSELoss() \n",
    "recon_criterion = nn.L1Loss() \n",
    "\n",
    "n_epochs = 20\n",
    "dim_A = 3\n",
    "dim_B = 3\n",
    "display_step = 200\n",
    "batch_size = 1\n",
    "lr = 0.0002\n",
    "load_shape = 286\n",
    "target_shape = 256\n",
    "device = 'cuda'"
   ]
  },
  {
   "cell_type": "markdown",
   "metadata": {
    "colab_type": "text",
    "id": "WPOUC6-nVDCv"
   },
   "source": [
    "Loading the images of the dataset while introducing some data augmentation (random horizontal flips and crops). "
   ]
  },
  {
   "cell_type": "code",
   "execution_count": 35,
   "metadata": {
    "colab": {},
    "colab_type": "code",
    "id": "PNAK2XqMJ419"
   },
   "outputs": [],
   "source": [
    "transform = transforms.Compose([\n",
    "    transforms.Resize(load_shape),\n",
    "    transforms.RandomCrop(target_shape),\n",
    "    transforms.RandomHorizontalFlip(),\n",
    "    transforms.ToTensor(),\n",
    "])\n",
    "\n",
    "import torchvision\n",
    "dataset = ImageDataset(\"horse2zebra\", transform=transform)"
   ]
  },
  {
   "cell_type": "markdown",
   "metadata": {
    "colab_type": "text",
    "id": "t7vKN1POUjud"
   },
   "source": [
    "Initializing generators and discriminators, as well as their optimizers."
   ]
  },
  {
   "cell_type": "code",
   "execution_count": 36,
   "metadata": {
    "colab": {},
    "colab_type": "code",
    "id": "vBY3Y9UrUgVX"
   },
   "outputs": [],
   "source": [
    "gen_AB = Generator(dim_A, dim_B).to(device)\n",
    "gen_BA = Generator(dim_B, dim_A).to(device)\n",
    "gen_opt = torch.optim.Adam(list(gen_AB.parameters()) + list(gen_BA.parameters()), lr=lr, betas=(0.5, 0.999))\n",
    "disc_A = Discriminator(dim_A).to(device)\n",
    "disc_A_opt = torch.optim.Adam(disc_A.parameters(), lr=lr, betas=(0.5, 0.999))\n",
    "disc_B = Discriminator(dim_B).to(device)\n",
    "disc_B_opt = torch.optim.Adam(disc_B.parameters(), lr=lr, betas=(0.5, 0.999))\n",
    "\n",
    "def weights_init(m):\n",
    "    if isinstance(m, nn.Conv2d) or isinstance(m, nn.ConvTranspose2d):\n",
    "        torch.nn.init.normal_(m.weight, 0.0, 0.02)\n",
    "    if isinstance(m, nn.BatchNorm2d):\n",
    "        torch.nn.init.normal_(m.weight, 0.0, 0.02)\n",
    "        torch.nn.init.constant_(m.bias, 0)\n",
    "\n",
    "# Feel free to change pretrained to False if you're training the model from scratch\n",
    "pretrained = True\n",
    "if pretrained:\n",
    "    pre_dict = torch.load('cycleGAN_100000.pth')\n",
    "    gen_AB.load_state_dict(pre_dict['gen_AB'])\n",
    "    gen_BA.load_state_dict(pre_dict['gen_BA'])\n",
    "    gen_opt.load_state_dict(pre_dict['gen_opt'])\n",
    "    disc_A.load_state_dict(pre_dict['disc_A'])\n",
    "    disc_A_opt.load_state_dict(pre_dict['disc_A_opt'])\n",
    "    disc_B.load_state_dict(pre_dict['disc_B'])\n",
    "    disc_B_opt.load_state_dict(pre_dict['disc_B_opt'])\n",
    "else:\n",
    "    gen_AB = gen_AB.apply(weights_init)\n",
    "    gen_BA = gen_BA.apply(weights_init)\n",
    "    disc_A = disc_A.apply(weights_init)\n",
    "    disc_B = disc_B.apply(weights_init)"
   ]
  },
  {
   "cell_type": "markdown",
   "metadata": {
    "colab_type": "text",
    "id": "YcpFbNDYzJrh"
   },
   "source": [
    "## Discriminator Loss"
   ]
  },
  {
   "cell_type": "code",
   "execution_count": 37,
   "metadata": {
    "colab": {},
    "colab_type": "code",
    "id": "ExsrHkBqNfLN"
   },
   "outputs": [],
   "source": [
    "\n",
    "def get_disc_loss(real_X, fake_X, disc_X, adv_criterion):\n",
    "    disc_fake_X_hat = disc_X(fake_X.detach()) # Detach generator\n",
    "    disc_fake_X_loss = adv_criterion(disc_fake_X_hat, torch.zeros_like(disc_fake_X_hat))\n",
    "    disc_real_X_hat = disc_X(real_X)\n",
    "    disc_real_X_loss = adv_criterion(disc_real_X_hat, torch.ones_like(disc_real_X_hat))\n",
    "    disc_loss = (disc_fake_X_loss + disc_real_X_loss) / 2    \n",
    "    return disc_loss"
   ]
  },
  {
   "cell_type": "markdown",
   "metadata": {
    "colab_type": "text",
    "id": "00gvvb5JWLTC"
   },
   "source": [
    "## Generator Loss"
   ]
  },
  {
   "cell_type": "markdown",
   "metadata": {
    "colab_type": "text",
    "id": "oCX5SsevIdNK"
   },
   "source": [
    "#### Adversarial Loss"
   ]
  },
  {
   "cell_type": "code",
   "execution_count": 39,
   "metadata": {
    "colab": {},
    "colab_type": "code",
    "id": "oRRnnkwGwV5J"
   },
   "outputs": [],
   "source": [
    "\n",
    "def get_gen_adversarial_loss(real_X, disc_Y, gen_XY, adv_criterion):\n",
    "    fake_Y = gen_XY(real_X)\n",
    "    disc_fake_Y_hat = disc_Y(fake_Y)\n",
    "    adversarial_loss = adv_criterion(disc_fake_Y_hat, torch.ones_like(disc_fake_Y_hat))    \n",
    "    return adversarial_loss, fake_Y"
   ]
  },
  {
   "cell_type": "markdown",
   "metadata": {
    "colab_type": "text",
    "id": "fqsPfWxyIzto"
   },
   "source": [
    "#### Identity Loss"
   ]
  },
  {
   "cell_type": "code",
   "execution_count": 41,
   "metadata": {
    "colab": {},
    "colab_type": "code",
    "id": "ZU4PNEFB4r7M"
   },
   "outputs": [],
   "source": [
    "def get_identity_loss(real_X, gen_YX, identity_criterion):\n",
    "\n",
    "    identity_X = gen_YX(real_X)\n",
    "    identity_loss = identity_criterion(identity_X, real_X)\n",
    "    return identity_loss, identity_X"
   ]
  },
  {
   "cell_type": "markdown",
   "metadata": {
    "colab_type": "text",
    "id": "a4riyUqIJJXS"
   },
   "source": [
    "####  Consistency Loss"
   ]
  },
  {
   "cell_type": "code",
   "execution_count": 43,
   "metadata": {
    "colab": {},
    "colab_type": "code",
    "id": "YZE-Eyj0LOpm"
   },
   "outputs": [],
   "source": [
    "\n",
    "def get_cycle_consistency_loss(real_X, fake_Y, gen_YX, cycle_criterion):\n",
    "\n",
    "    cycle_X = gen_YX(fake_Y)\n",
    "    cycle_loss = cycle_criterion(cycle_X, real_X) \n",
    "    return cycle_loss, cycle_X"
   ]
  },
  {
   "cell_type": "markdown",
   "metadata": {
    "colab_type": "text",
    "id": "RchMRsiyJuRi"
   },
   "source": [
    "#### Generator Loss (Total)"
   ]
  },
  {
   "cell_type": "code",
   "execution_count": 45,
   "metadata": {
    "colab": {},
    "colab_type": "code",
    "id": "5oAdw-H1KbGv"
   },
   "outputs": [],
   "source": [
    "\n",
    "def get_gen_loss(real_A, real_B, gen_AB, gen_BA, disc_A, disc_B, adv_criterion, identity_criterion, cycle_criterion, lambda_identity=0.1, lambda_cycle=10):\n",
    "\n",
    "    # Adversarial Loss -- get_gen_adversarial_loss(real_X, disc_Y, gen_XY, adv_criterion)\n",
    "    adv_loss_BA, fake_A = get_gen_adversarial_loss(real_B, disc_A, gen_BA, adv_criterion)\n",
    "    adv_loss_AB, fake_B = get_gen_adversarial_loss(real_A, disc_B, gen_AB, adv_criterion)\n",
    "    gen_adversarial_loss = adv_loss_BA + adv_loss_AB\n",
    "\n",
    "    # Identity Loss -- get_identity_loss(real_X, gen_YX, identity_criterion)\n",
    "    identity_loss_A, identity_A = get_identity_loss(real_A, gen_BA, identity_criterion)\n",
    "    identity_loss_B, identity_B = get_identity_loss(real_B, gen_AB, identity_criterion)\n",
    "    gen_identity_loss = identity_loss_A + identity_loss_B\n",
    "\n",
    "    # Cycle-consistency Loss -- get_cycle_consistency_loss(real_X, fake_Y, gen_YX, cycle_criterion)\n",
    "    cycle_loss_BA, cycle_A = get_cycle_consistency_loss(real_A, fake_B, gen_BA, cycle_criterion)\n",
    "    cycle_loss_AB, cycle_B = get_cycle_consistency_loss(real_B, fake_A, gen_AB, cycle_criterion)\n",
    "    gen_cycle_loss = cycle_loss_BA + cycle_loss_AB\n",
    "\n",
    "    # Total loss\n",
    "    gen_loss = lambda_identity * gen_identity_loss + lambda_cycle * gen_cycle_loss + gen_adversarial_loss\n",
    "    return gen_loss, fake_A, fake_B"
   ]
  },
  {
   "cell_type": "markdown",
   "metadata": {
    "colab_type": "text",
    "id": "SMDZWZTz3ivA"
   },
   "source": [
    "## GAN Training"
   ]
  }
 ],
 "metadata": {
  "accelerator": "GPU",
  "colab": {
   "collapsed_sections": [
    "1KD3ZgLs80vY"
   ],
   "name": "C3W3: CycleGAN.ipynb",
   "provenance": [],
   "toc_visible": true
  },
  "coursera": {
   "schema_names": [
    "GANSC3-3A"
   ]
  },
  "kernelspec": {
   "display_name": "Python 3",
   "language": "python",
   "name": "python3"
  },
  "language_info": {
   "codemirror_mode": {
    "name": "ipython",
    "version": 3
   },
   "file_extension": ".py",
   "mimetype": "text/x-python",
   "name": "python",
   "nbconvert_exporter": "python",
   "pygments_lexer": "ipython3",
   "version": "3.6.9"
  }
 },
 "nbformat": 4,
 "nbformat_minor": 1
}
